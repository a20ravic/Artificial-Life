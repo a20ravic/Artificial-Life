{
 "cells": [
  {
   "cell_type": "markdown",
   "metadata": {},
   "source": [
    "7)Write a program that reads a string over alphabet{A,C,T,G}, the template strand of DNA,and returns 1. a string over{A,C,T,G}for the complementary strand, and 2. the string over{A,C,U,G}for the corresponding mRNA (messenger RNA)."
   ]
  },
  {
   "cell_type": "code",
   "execution_count": 1,
   "metadata": {},
   "outputs": [],
   "source": [
    "#function to convert DNA to mRNA\n",
    "def dna_to_rna(dna):\n",
    "    dna = dna.upper()\n",
    "    dna_mapping = {'G': 'C', 'C': 'G', 'T': 'A', 'A': 'T'} # acceptable input restricted to {A,C,T,G}\n",
    "    if any(base not in dna_mapping.keys() for base in dna):\n",
    "        print('Invalid Input') # reject invalid input\n",
    "    else: \n",
    "        dna_compliment = \"\".join(dna_mapping[n] for n in dna) # DNA complementary of the given valid input\n",
    "        rna_mapping = {'G': 'C', 'C': 'G', 'T': 'A', 'A': 'U'} # converting DNA to mRNA\n",
    "        print(\"Template strand of DNA:     \", dna)\n",
    "        print(\"Complementary DNA strand:   \", dna_compliment)\n",
    "        print(\"Final mRNA strand:          \", \"\".join(rna_mapping[n] for n in dna_compliment))"
   ]
  },
  {
   "cell_type": "code",
   "execution_count": 2,
   "metadata": {},
   "outputs": [
    {
     "name": "stdout",
     "output_type": "stream",
     "text": [
      "Template strand of DNA:      ACTG\n",
      "Complementary DNA strand:    TGAC\n",
      "Final mRNA strand:           ACUG\n"
     ]
    }
   ],
   "source": [
    "#valid input 1\n",
    "dna_to_rna(\"ACTG\")"
   ]
  },
  {
   "cell_type": "code",
   "execution_count": 3,
   "metadata": {},
   "outputs": [
    {
     "name": "stdout",
     "output_type": "stream",
     "text": [
      "Template strand of DNA:      AACCTTCGA\n",
      "Complementary DNA strand:    TTGGAAGCT\n",
      "Final mRNA strand:           AACCUUCGA\n"
     ]
    }
   ],
   "source": [
    "#valid input 2\n",
    "dna_to_rna(\"AACCTTCGA\")"
   ]
  },
  {
   "cell_type": "code",
   "execution_count": 4,
   "metadata": {},
   "outputs": [
    {
     "name": "stdout",
     "output_type": "stream",
     "text": [
      "Template strand of DNA:      AACAACCTTCGACTTAACCTTCGACGA\n",
      "Complementary DNA strand:    TTGTTGGAAGCTGAATTGGAAGCTGCT\n",
      "Final mRNA strand:           AACAACCUUCGACUUAACCUUCGACGA\n"
     ]
    }
   ],
   "source": [
    "#valid input 2\n",
    "dna_to_rna(\"AACAACCTTCGACTTAACCTTCGACGA\")"
   ]
  },
  {
   "cell_type": "code",
   "execution_count": 5,
   "metadata": {},
   "outputs": [
    {
     "name": "stdout",
     "output_type": "stream",
     "text": [
      "Invalid Input\n"
     ]
    }
   ],
   "source": [
    "#invalid input\n",
    "dna_to_rna(\"SAA\")"
   ]
  }
 ],
 "metadata": {
  "kernelspec": {
   "display_name": "Python 3",
   "language": "python",
   "name": "python3"
  },
  "language_info": {
   "codemirror_mode": {
    "name": "ipython",
    "version": 3
   },
   "file_extension": ".py",
   "mimetype": "text/x-python",
   "name": "python",
   "nbconvert_exporter": "python",
   "pygments_lexer": "ipython3",
   "version": "3.7.4"
  }
 },
 "nbformat": 4,
 "nbformat_minor": 2
}
